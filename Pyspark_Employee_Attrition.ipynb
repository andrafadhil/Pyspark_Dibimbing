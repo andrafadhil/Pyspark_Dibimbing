{
  "nbformat": 4,
  "nbformat_minor": 0,
  "metadata": {
    "colab": {
      "provenance": []
    },
    "kernelspec": {
      "name": "python3",
      "display_name": "Python 3"
    },
    "language_info": {
      "name": "python"
    }
  },
  "cells": [
    {
      "cell_type": "code",
      "execution_count": 137,
      "metadata": {
        "colab": {
          "base_uri": "https://localhost:8080/"
        },
        "id": "tNsC-mtExWMY",
        "outputId": "0fe132ec-03d2-4ef6-980c-ff403928044a"
      },
      "outputs": [
        {
          "output_type": "stream",
          "name": "stdout",
          "text": [
            "Requirement already satisfied: pyspark in /usr/local/lib/python3.10/dist-packages (3.5.2)\n",
            "Requirement already satisfied: py4j==0.10.9.7 in /usr/local/lib/python3.10/dist-packages (from pyspark) (0.10.9.7)\n"
          ]
        }
      ],
      "source": [
        "!pip install pyspark"
      ]
    },
    {
      "cell_type": "markdown",
      "source": [
        "## Problem Statement\n",
        "Our client is ABC a leading firm and is doing well in the sector. It is recently facing a steep increase in its employee attrition . Employee attrition has gone up from 14% to 25% in the last 1 year . We are asked to prepare a strategy to immediately tackle this issue such that the firm’s business is not hampered and also to propose an efficient employee satisfaction program for long run. Currently, no such program is in place . Further salary hikes are not an option.\n",
        "\n"
      ],
      "metadata": {
        "id": "5Wr-2RyFTi-E"
      }
    },
    {
      "cell_type": "markdown",
      "source": [
        "### Independent Variables were:\n",
        "- Age: Age of employees,\n",
        "- Department: Department of work,Distance from home,\n",
        "- Education: 1-Below College; 2-College; 3-Bachelor; 4-Master; 5-Doctor;\n",
        "- Education Field\n",
        "- Environment Satisfaction: 1-Low; 2-Medium; 3-High; 4-Very High;\n",
        "- Job Satisfaction: 1-Low; 2-Medium; 3-High; 4-Very High;\n",
        "- Marital Status,\n",
        "- Monthly Income,\n",
        "- Num Companies Worked: Number of companies worked prior to IBM,\n",
        "- Work Life Balance: 1-Bad; 2-Good; 3-Better; 4-Best;\n",
        "- Years At Company: Current years of service in IBM\n",
        "-Dependent Variable was:\n",
        "- Attrition: Employee attrition status(0 or 1)"
      ],
      "metadata": {
        "id": "TMCOOh-uTsHn"
      }
    },
    {
      "cell_type": "markdown",
      "source": [
        "### LOAD DATASET"
      ],
      "metadata": {
        "id": "nwyF4dP-Ly_z"
      }
    },
    {
      "cell_type": "code",
      "source": [
        "from pyspark.sql import SparkSession, Row\n",
        "from pyspark import SparkContext, SparkConf\n",
        "from pyspark.sql.types import StructType, StructField, StringType, IntegerType, DoubleType, FloatType\n",
        "from pyspark.sql.functions import avg, col, stddev, corr ,sum , when, mean\n",
        "from pyspark.ml.feature import VectorAssembler\n",
        "from pyspark.ml.stat import Correlation\n",
        "from pyspark.sql import functions as F\n",
        "from pyspark import RDD\n",
        "from pyspark.mllib.stat import Statistics\n",
        "import pandas as pd\n",
        "import matplotlib.pyplot as plt\n",
        "import seaborn as sns"
      ],
      "metadata": {
        "id": "vckS0URJxdJh"
      },
      "execution_count": 139,
      "outputs": []
    },
    {
      "cell_type": "code",
      "source": [
        "spark = SparkSession.builder.appName(\"EmployeeAttritionAnalysis\").getOrCreate()\n",
        "\n",
        "# Read CSV files with a predefined schema\n",
        "df = spark.read.csv('Attrition_Data.csv', header=True, inferSchema=True)\n",
        "df.show(10)"
      ],
      "metadata": {
        "colab": {
          "base_uri": "https://localhost:8080/"
        },
        "id": "PnG4ETsSxqll",
        "outputId": "a016f96c-0155-4ccd-d22a-da205ff7e392"
      },
      "execution_count": 140,
      "outputs": [
        {
          "output_type": "stream",
          "name": "stdout",
          "text": [
            "+---+---------+--------------------+----------------+---------+--------------+-----------------------+---------------+-------------+-------------+------------------+---------------+--------------+\n",
            "|Age|Attrition|          Department|DistanceFromHome|Education|EducationField|EnvironmentSatisfaction|JobSatisfaction|MaritalStatus|MonthlyIncome|NumCompaniesWorked|WorkLifeBalance|YearsAtCompany|\n",
            "+---+---------+--------------------+----------------+---------+--------------+-----------------------+---------------+-------------+-------------+------------------+---------------+--------------+\n",
            "| 41|      Yes|               Sales|               1|        2| Life Sciences|                      2|              4|       Single|         5993|                 8|              1|             6|\n",
            "| 49|       No|Research & Develo...|               8|        1| Life Sciences|                      3|              2|      Married|         5130|                 1|              3|            10|\n",
            "| 37|      Yes|Research & Develo...|               2|        2|         Other|                      4|              3|       Single|         2090|                 6|              3|             0|\n",
            "| 33|       No|Research & Develo...|               3|        4| Life Sciences|                      4|              3|      Married|         2909|                 1|              3|             8|\n",
            "| 27|       No|Research & Develo...|               2|        1|       Medical|                      1|              2|      Married|         3468|                 9|              3|             2|\n",
            "| 32|       No|Research & Develo...|               2|        2| Life Sciences|                      4|              4|       Single|         3068|                 0|              2|             7|\n",
            "| 59|       No|Research & Develo...|               3|        3|       Medical|                      3|              1|      Married|         2670|                 4|              2|             1|\n",
            "| 30|       No|Research & Develo...|              24|        1| Life Sciences|                      4|              3|     Divorced|         2693|                 1|              3|             1|\n",
            "| 38|       No|Research & Develo...|              23|        3| Life Sciences|                      4|              3|       Single|         9526|                 0|              3|             9|\n",
            "| 36|       No|Research & Develo...|              27|        3|       Medical|                      3|              3|      Married|         5237|                 6|              2|             7|\n",
            "+---+---------+--------------------+----------------+---------+--------------+-----------------------+---------------+-------------+-------------+------------------+---------------+--------------+\n",
            "only showing top 10 rows\n",
            "\n"
          ]
        }
      ]
    },
    {
      "cell_type": "code",
      "source": [
        "df.printSchema()"
      ],
      "metadata": {
        "colab": {
          "base_uri": "https://localhost:8080/"
        },
        "id": "rXuSy0VJyIlg",
        "outputId": "57e5851d-97ba-4222-b619-8b32a2b312ca"
      },
      "execution_count": 141,
      "outputs": [
        {
          "output_type": "stream",
          "name": "stdout",
          "text": [
            "root\n",
            " |-- Age: integer (nullable = true)\n",
            " |-- Attrition: string (nullable = true)\n",
            " |-- Department: string (nullable = true)\n",
            " |-- DistanceFromHome: integer (nullable = true)\n",
            " |-- Education: integer (nullable = true)\n",
            " |-- EducationField: string (nullable = true)\n",
            " |-- EnvironmentSatisfaction: integer (nullable = true)\n",
            " |-- JobSatisfaction: integer (nullable = true)\n",
            " |-- MaritalStatus: string (nullable = true)\n",
            " |-- MonthlyIncome: integer (nullable = true)\n",
            " |-- NumCompaniesWorked: integer (nullable = true)\n",
            " |-- WorkLifeBalance: integer (nullable = true)\n",
            " |-- YearsAtCompany: integer (nullable = true)\n",
            "\n"
          ]
        }
      ]
    },
    {
      "cell_type": "code",
      "source": [
        "# Calculating the number of columns\n",
        "len(df.columns)"
      ],
      "metadata": {
        "colab": {
          "base_uri": "https://localhost:8080/"
        },
        "id": "qkEcQvxmzC5R",
        "outputId": "ec6d6c07-f05b-4a41-ff73-725a33a2cb11"
      },
      "execution_count": 142,
      "outputs": [
        {
          "output_type": "execute_result",
          "data": {
            "text/plain": [
              "13"
            ]
          },
          "metadata": {},
          "execution_count": 142
        }
      ]
    },
    {
      "cell_type": "code",
      "source": [
        "# Counts the number of rows\n",
        "df.count()"
      ],
      "metadata": {
        "colab": {
          "base_uri": "https://localhost:8080/"
        },
        "id": "Czl2F5w3zC7u",
        "outputId": "5788b5af-d731-4bcf-a00c-dc32c4b4db8d"
      },
      "execution_count": 143,
      "outputs": [
        {
          "output_type": "execute_result",
          "data": {
            "text/plain": [
              "1470"
            ]
          },
          "metadata": {},
          "execution_count": 143
        }
      ]
    },
    {
      "cell_type": "code",
      "source": [
        "# Counts the number of empty values ​​(null) in each column\n",
        "missing_values = df.select([sum(col(c).isNull().cast(\"int\")).alias(c) for c in df.columns])\n",
        "\n",
        "# Displays the number of missing values ​​per column\n",
        "missing_values.show()"
      ],
      "metadata": {
        "colab": {
          "base_uri": "https://localhost:8080/"
        },
        "id": "sxUxSaDqzC-E",
        "outputId": "98e8fa9c-3dc2-4b46-abcd-4bfbe4cd5c9f"
      },
      "execution_count": 144,
      "outputs": [
        {
          "output_type": "stream",
          "name": "stdout",
          "text": [
            "+---+---------+----------+----------------+---------+--------------+-----------------------+---------------+-------------+-------------+------------------+---------------+--------------+\n",
            "|Age|Attrition|Department|DistanceFromHome|Education|EducationField|EnvironmentSatisfaction|JobSatisfaction|MaritalStatus|MonthlyIncome|NumCompaniesWorked|WorkLifeBalance|YearsAtCompany|\n",
            "+---+---------+----------+----------------+---------+--------------+-----------------------+---------------+-------------+-------------+------------------+---------------+--------------+\n",
            "|  0|        0|         0|               0|        0|             0|                      0|              0|            0|            0|                 0|              0|             0|\n",
            "+---+---------+----------+----------------+---------+--------------+-----------------------+---------------+-------------+-------------+------------------+---------------+--------------+\n",
            "\n"
          ]
        }
      ]
    },
    {
      "cell_type": "code",
      "source": [
        "# View duplicated data\n",
        "df.groupBy(df.columns).count().filter(\"count > 1\").show()"
      ],
      "metadata": {
        "colab": {
          "base_uri": "https://localhost:8080/"
        },
        "id": "qsA9yEVWzDAr",
        "outputId": "7e22aa65-3b41-48e7-85a1-82b9f8068718"
      },
      "execution_count": 145,
      "outputs": [
        {
          "output_type": "stream",
          "name": "stdout",
          "text": [
            "+---+---------+----------+----------------+---------+--------------+-----------------------+---------------+-------------+-------------+------------------+---------------+--------------+-----+\n",
            "|Age|Attrition|Department|DistanceFromHome|Education|EducationField|EnvironmentSatisfaction|JobSatisfaction|MaritalStatus|MonthlyIncome|NumCompaniesWorked|WorkLifeBalance|YearsAtCompany|count|\n",
            "+---+---------+----------+----------------+---------+--------------+-----------------------+---------------+-------------+-------------+------------------+---------------+--------------+-----+\n",
            "+---+---------+----------+----------------+---------+--------------+-----------------------+---------------+-------------+-------------+------------------+---------------+--------------+-----+\n",
            "\n"
          ]
        }
      ]
    },
    {
      "cell_type": "markdown",
      "source": [
        "Observation:\n",
        "- there are 13 columns and 1470 rows\n",
        "- int and string data types\n",
        "- no missing values\n",
        "- no duplicated data"
      ],
      "metadata": {
        "id": "H22D5-pWZ-kX"
      }
    },
    {
      "cell_type": "markdown",
      "source": [
        "## Eksplorasi Dataset"
      ],
      "metadata": {
        "id": "DGL6dFfZacM0"
      }
    },
    {
      "cell_type": "code",
      "source": [
        "# Displays the distribution of Attrition\n",
        "df.groupBy(\"Attrition\").count().show()\n",
        "# Displays the distribution of Departments\n",
        "df.groupBy(\"Department\").count().show()\n",
        "# Displays Maritalstatus distribution\n",
        "df.groupBy(\"MaritalStatus\").count().show()\n",
        "# Displays the EducationField distribution\n",
        "df.groupBy(\"EducationField\").count().show()"
      ],
      "metadata": {
        "colab": {
          "base_uri": "https://localhost:8080/"
        },
        "id": "22xHmkfUV6Pg",
        "outputId": "f4e0ec96-d281-489d-d885-c746d81eb476"
      },
      "execution_count": 146,
      "outputs": [
        {
          "output_type": "stream",
          "name": "stdout",
          "text": [
            "+---------+-----+\n",
            "|Attrition|count|\n",
            "+---------+-----+\n",
            "|       No| 1233|\n",
            "|      Yes|  237|\n",
            "+---------+-----+\n",
            "\n",
            "+--------------------+-----+\n",
            "|          Department|count|\n",
            "+--------------------+-----+\n",
            "|               Sales|  446|\n",
            "|Research & Develo...|  961|\n",
            "|     Human Resources|   63|\n",
            "+--------------------+-----+\n",
            "\n",
            "+-------------+-----+\n",
            "|MaritalStatus|count|\n",
            "+-------------+-----+\n",
            "|      Married|  673|\n",
            "|     Divorced|  327|\n",
            "|       Single|  470|\n",
            "+-------------+-----+\n",
            "\n",
            "+----------------+-----+\n",
            "|  EducationField|count|\n",
            "+----------------+-----+\n",
            "|Technical Degree|  132|\n",
            "|           Other|   82|\n",
            "|       Marketing|  159|\n",
            "|         Medical|  464|\n",
            "|   Life Sciences|  606|\n",
            "| Human Resources|   27|\n",
            "+----------------+-----+\n",
            "\n"
          ]
        }
      ]
    },
    {
      "cell_type": "markdown",
      "source": [
        "Observation:\n",
        "- The number of employees who left the company was 237 people and 1233 people were still working\n",
        "- There are 3 departments, namely sales, research & development and human resources\n",
        "- most of the employees are married followed by single and divorced\n",
        "- employees have diverse education with the largest number in the Life Sciences field"
      ],
      "metadata": {
        "id": "QsjNzmZXbnS7"
      }
    },
    {
      "cell_type": "code",
      "source": [
        "# Calculates the correlation between MonthlyIncome and YearsAtCompany\n",
        "correlation = df.stat.corr(\"MonthlyIncome\", \"YearsAtCompany\")\n",
        "print(f\"Correlation between monthly income and years worked: {correlation}\")"
      ],
      "metadata": {
        "colab": {
          "base_uri": "https://localhost:8080/"
        },
        "id": "Tganjy-94oAO",
        "outputId": "93de982d-ab88-47d4-b1ff-ae1fe43124f9"
      },
      "execution_count": 147,
      "outputs": [
        {
          "output_type": "stream",
          "name": "stdout",
          "text": [
            "Correlation between monthly income and years worked: 0.5142848257331956\n"
          ]
        }
      ]
    },
    {
      "cell_type": "code",
      "source": [
        "# Calculates the correlation between MonthlyIncome and Age\n",
        "correlation = df.stat.corr(\"MonthlyIncome\", \"Age\")\n",
        "print(f\"Correlation between monthly income and years of age: {correlation}\")"
      ],
      "metadata": {
        "colab": {
          "base_uri": "https://localhost:8080/"
        },
        "id": "4uZsXmpA4oCY",
        "outputId": "d2ff098c-d4bf-4711-9df5-38a0ee741180"
      },
      "execution_count": 148,
      "outputs": [
        {
          "output_type": "stream",
          "name": "stdout",
          "text": [
            "Correlation between monthly income and years of age: 0.49785456692658\n"
          ]
        }
      ]
    },
    {
      "cell_type": "code",
      "source": [
        "features = ['DistanceFromHome', 'Education', 'EnvironmentSatisfaction', 'JobSatisfaction',\n",
        "                'MonthlyIncome', 'NumCompaniesWorked', 'WorkLifeBalance', 'YearsAtCompany']\n",
        "assembler = VectorAssembler(inputCols=features, outputCol='features')\n",
        "df_features = assembler.transform(df).select('features')\n",
        "\n",
        "df_features.show(3)"
      ],
      "metadata": {
        "colab": {
          "base_uri": "https://localhost:8080/"
        },
        "id": "suWFF4Vvz1h2",
        "outputId": "c3273c05-3a89-4d66-cfbb-2f07b29c6499"
      },
      "execution_count": 149,
      "outputs": [
        {
          "output_type": "stream",
          "name": "stdout",
          "text": [
            "+--------------------+\n",
            "|            features|\n",
            "+--------------------+\n",
            "|[1.0,2.0,2.0,4.0,...|\n",
            "|[8.0,1.0,3.0,2.0,...|\n",
            "|[2.0,2.0,4.0,3.0,...|\n",
            "+--------------------+\n",
            "only showing top 3 rows\n",
            "\n"
          ]
        }
      ]
    },
    {
      "cell_type": "code",
      "source": [
        "# Calculate the standard deviation for each feature in features\n",
        "std_devs = df_features.rdd.map(lambda x: x[0]).stdev()\n",
        "\n",
        "# Show standard deviation for each feature\n",
        "print(\"Standar Deviasi Fitur:\")\n",
        "for i, std_dev in enumerate(std_devs):\n",
        "  print(f\"Fitur {features[i]}: {std_dev}\")"
      ],
      "metadata": {
        "colab": {
          "base_uri": "https://localhost:8080/"
        },
        "id": "TT5JgyRw1ARG",
        "outputId": "ada5003c-ea21-4fcd-9c30-95ed6f5619a6"
      },
      "execution_count": 150,
      "outputs": [
        {
          "output_type": "stream",
          "name": "stdout",
          "text": [
            "Standar Deviasi Fitur:\n",
            "Fitur DistanceFromHome: 8.104106529671775\n",
            "Fitur Education: 1.02381652991026\n",
            "Fitur EnvironmentSatisfaction: 1.092710354711113\n",
            "Fitur JobSatisfaction: 1.1024709415085507\n",
            "Fitur MonthlyIncome: 4706.355164823001\n",
            "Fitur NumCompaniesWorked: 2.497159198593843\n",
            "Fitur WorkLifeBalance: 0.7062354909319911\n",
            "Fitur YearsAtCompany: 6.124440945793708\n"
          ]
        }
      ]
    },
    {
      "cell_type": "markdown",
      "source": [
        "MonthlyIncome, YearsAtCompany, and DistanceFromHome show large variations, which can provide important insights in further analysis, especially regarding salary distribution, work experience, and residential distance. On the other hand, features such as Education and WorkLifeBalance show smaller variations, indicating uniformity among employees on these aspects."
      ],
      "metadata": {
        "id": "Elq-G31y59Px"
      }
    },
    {
      "cell_type": "markdown",
      "source": [
        "## Transformasi Data\n"
      ],
      "metadata": {
        "id": "OtTDfujP6kyW"
      }
    },
    {
      "cell_type": "markdown",
      "source": [
        "### RDD\n"
      ],
      "metadata": {
        "id": "SRMowfRs6yXY"
      }
    },
    {
      "cell_type": "markdown",
      "source": [
        "**1.Do certain departments have higher attrition rates?**"
      ],
      "metadata": {
        "id": "elObwbI99PeW"
      }
    },
    {
      "cell_type": "code",
      "source": [
        "# Retrieves Department and Attrition columns as RDD\n",
        "rdd_department = df.select(\"Department\", \"Attrition\").rdd\n",
        "\n",
        "# Change 'Yes' to 1 and 'No' to 0\n",
        "def convert_attrition(row):\n",
        "    attrition_value = 1 if row[\"Attrition\"] == \"Yes\" else 0\n",
        "    return (row[\"Department\"], (attrition_value, 1))\n",
        "\n",
        "rdd_department_converted = rdd_department.map(convert_attrition)\n",
        "\n",
        "# Looking at some data first\n",
        "rdd_department.take(5)"
      ],
      "metadata": {
        "colab": {
          "base_uri": "https://localhost:8080/"
        },
        "id": "_sx8WMVp8F3M",
        "outputId": "4e5b7bae-9df5-4e6d-e9cf-091ebfcf84b5"
      },
      "execution_count": 151,
      "outputs": [
        {
          "output_type": "execute_result",
          "data": {
            "text/plain": [
              "[Row(Department='Sales', Attrition='Yes'),\n",
              " Row(Department='Research & Development', Attrition='No'),\n",
              " Row(Department='Research & Development', Attrition='Yes'),\n",
              " Row(Department='Research & Development', Attrition='No'),\n",
              " Row(Department='Research & Development', Attrition='No')]"
            ]
          },
          "metadata": {},
          "execution_count": 151
        }
      ]
    },
    {
      "cell_type": "code",
      "source": [
        "# Calculate total employees and the number experiencing attrition per department\n",
        "department_stats = rdd_department_converted.reduceByKey(lambda x, y: (x[0] + y[0], x[1] + y[1]))\n",
        "\n",
        "# Calculate the attrition percentage per department\n",
        "department_attrition_rate = department_stats.mapValues(lambda x: (x[0] / x[1]) * 100).sortBy(lambda x: x[1], ascending=False)\n",
        "\n",
        "# See results\n",
        "department_attrition_rate.collect()\n"
      ],
      "metadata": {
        "colab": {
          "base_uri": "https://localhost:8080/"
        },
        "id": "-F-2t5yN8F8X",
        "outputId": "c8b1e53b-d180-4121-e35e-75f65422821b"
      },
      "execution_count": 152,
      "outputs": [
        {
          "output_type": "execute_result",
          "data": {
            "text/plain": [
              "[('Sales', 20.62780269058296),\n",
              " ('Human Resources', 19.047619047619047),\n",
              " ('Research & Development', 13.839750260145681)]"
            ]
          },
          "metadata": {},
          "execution_count": 152
        }
      ]
    },
    {
      "cell_type": "code",
      "source": [
        "# Convert RDD to PySpark DataFrame\n",
        "department_attrition_df = department_attrition_rate.map(lambda x: Row(department=x[0], attrition_rate=x[1])).toDF()\n",
        "# Convert PySpark DataFrame to Pandas DataFrame\n",
        "department_attrition_pd = department_attrition_df.toPandas()"
      ],
      "metadata": {
        "id": "W6JNafzxhhqn"
      },
      "execution_count": 153,
      "outputs": []
    },
    {
      "cell_type": "code",
      "source": [
        "plt.figure(figsize=(10, 6))\n",
        "sns.barplot(x='department', y='attrition_rate', data=department_attrition_pd, palette='viridis')\n",
        "plt.xlabel('Departemen')\n",
        "plt.ylabel('Persentase Attrition (%)')\n",
        "plt.title('Persentase Attrition per Departemen')\n",
        "plt.show()"
      ],
      "metadata": {
        "colab": {
          "base_uri": "https://localhost:8080/",
          "height": 651
        },
        "id": "z3S3pMJwi-YX",
        "outputId": "f2159c9e-8c1d-4538-f8ef-726f86626187"
      },
      "execution_count": 154,
      "outputs": [
        {
          "output_type": "stream",
          "name": "stderr",
          "text": [
            "<ipython-input-154-a6c7a921fb89>:2: FutureWarning: \n",
            "\n",
            "Passing `palette` without assigning `hue` is deprecated and will be removed in v0.14.0. Assign the `x` variable to `hue` and set `legend=False` for the same effect.\n",
            "\n",
            "  sns.barplot(x='department', y='attrition_rate', data=department_attrition_pd, palette='viridis')\n"
          ]
        },
        {
          "output_type": "display_data",
          "data": {
            "text/plain": [
              "<Figure size 1000x600 with 1 Axes>"
            ],
            "image/png": "[encoded data removed]"
          },
          "metadata": {}
        }
      ]
    },
    {
      "cell_type": "markdown",
      "source": [
        "The Sales Department has the highest attrition rate at around **20.63%,** followed by the Human Resources Department with **19.05%**. In contrast, the Research & Development Department has the lowest attrition rate, namely **13.84%**. This shows that employees in Sales and Human Resources are more likely to leave the company compared to employees in Research & Development."
      ],
      "metadata": {
        "id": "WTgIR28q3Nbt"
      }
    },
    {
      "cell_type": "markdown",
      "source": [
        "### SQL"
      ],
      "metadata": {
        "id": "ygEwLeJ3CuzA"
      }
    },
    {
      "cell_type": "code",
      "source": [
        "# Daftarkan DataFrame sebagai tabel SQL sementara\n",
        "df.createOrReplaceTempView(\"employee\")"
      ],
      "metadata": {
        "id": "4DY53Cx5DKSO"
      },
      "execution_count": 155,
      "outputs": []
    },
    {
      "cell_type": "markdown",
      "source": [
        "**2. Do employees with low incomes have a significantly higher turnover rate compared to employees with medium or high incomes?**"
      ],
      "metadata": {
        "id": "1nhMkwT60vBq"
      }
    },
    {
      "cell_type": "code",
      "source": [
        "income_attrition = spark.sql(\"\"\"\n",
        "SELECT\n",
        "    CASE\n",
        "        WHEN MonthlyIncome BETWEEN 1009 AND 7000 THEN 'Low Income'\n",
        "        WHEN MonthlyIncome BETWEEN 7001 AND 13000 THEN 'Medium Income'\n",
        "        WHEN MonthlyIncome BETWEEN 13001 AND 19999 THEN 'High Income'\n",
        "    END AS income_group,\n",
        "    COUNT(*) AS total_count,\n",
        "    SUM(CASE WHEN Attrition = 'Yes' THEN 1 ELSE 0 END) AS attrition_count,\n",
        "    ROUND(SUM(CASE WHEN Attrition = 'Yes' THEN 1 ELSE 0 END) / COUNT(*) * 100, 2) AS attrition_rate\n",
        "FROM employee\n",
        "GROUP BY income_group\n",
        "ORDER BY attrition_rate DESC\n",
        "\"\"\")\n",
        "income_attrition.show()\n"
      ],
      "metadata": {
        "colab": {
          "base_uri": "https://localhost:8080/"
        },
        "id": "ts28nFE6x-x2",
        "outputId": "78e0ccc9-3b89-4f6c-d59e-5878b8ac1a18"
      },
      "execution_count": 156,
      "outputs": [
        {
          "output_type": "stream",
          "name": "stdout",
          "text": [
            "+-------------+-----------+---------------+--------------+\n",
            "| income_group|total_count|attrition_count|attrition_rate|\n",
            "+-------------+-----------+---------------+--------------+\n",
            "|   Low Income|       1035|            190|         18.36|\n",
            "|Medium Income|        250|             38|          15.2|\n",
            "|  High Income|        185|              9|          4.86|\n",
            "+-------------+-----------+---------------+--------------+\n",
            "\n"
          ]
        }
      ]
    },
    {
      "cell_type": "code",
      "source": [
        "income_attrition_pd = income_attrition.toPandas()\n",
        "\n",
        "# Create a bar plot using Seaborn\n",
        "plt.figure(figsize=(10, 6))\n",
        "sns.barplot(x='income_group', y='attrition_rate', data=income_attrition_pd, palette='viridis')\n",
        "plt.title('Attrition Rate by Income Group')\n",
        "plt.ylabel('Attrition Rate (%)')\n",
        "plt.xlabel('Income Group')\n",
        "plt.show()"
      ],
      "metadata": {
        "colab": {
          "base_uri": "https://localhost:8080/",
          "height": 651
        },
        "id": "zcjXNxwh1XXv",
        "outputId": "234d6585-c8c4-4333-8b38-5b6cd12a2262"
      },
      "execution_count": 157,
      "outputs": [
        {
          "output_type": "stream",
          "name": "stderr",
          "text": [
            "<ipython-input-157-cf352c0a8c48>:5: FutureWarning: \n",
            "\n",
            "Passing `palette` without assigning `hue` is deprecated and will be removed in v0.14.0. Assign the `x` variable to `hue` and set `legend=False` for the same effect.\n",
            "\n",
            "  sns.barplot(x='income_group', y='attrition_rate', data=income_attrition_pd, palette='viridis')\n"
          ]
        },
        {
          "output_type": "display_data",
          "data": {
            "text/plain": [
              "<Figure size 1000x600 with 1 Axes>"
            ],
            "image/png": "[encoded data removed]"
          },
          "metadata": {}
        }
      ]
    },
    {
      "cell_type": "markdown",
      "source": [
        "Employees with low incomes have significantly higher turnover rates than employees with medium or high incomes. The exit rate in the low income group **18.36%** was more than 3 times that of the medium income group **15.2%** and almost 4 times that of the high income group **4.86%**. This shows that employees with lower incomes tend to have a higher risk of leaving the company.\n"
      ],
      "metadata": {
        "id": "UHB72A1H7P2b"
      }
    },
    {
      "cell_type": "markdown",
      "source": [
        "**3. What is the age distribution of employees in the company?**"
      ],
      "metadata": {
        "id": "bsV8wLgH_Gxp"
      }
    },
    {
      "cell_type": "code",
      "source": [
        "age_group = spark.sql(\"\"\"\n",
        "SELECT\n",
        "    CASE\n",
        "        WHEN Age BETWEEN 18 AND 30 THEN 'Young'\n",
        "        WHEN Age BETWEEN 31 AND 45 THEN 'Mature'\n",
        "        WHEN Age BETWEEN 46 AND 60 THEN 'Old'\n",
        "        ELSE 'Other'\n",
        "    END AS age_group,\n",
        "    COUNT(*) AS count_per_group\n",
        "FROM employee\n",
        "GROUP BY age_group\n",
        "ORDER BY count_per_group DESC\n",
        "\"\"\")\n",
        "\n",
        "# Query execution\n",
        "age_group.show()"
      ],
      "metadata": {
        "id": "A1e19OWtFIGC",
        "colab": {
          "base_uri": "https://localhost:8080/"
        },
        "outputId": "7cc4793c-15a2-4e22-cfda-07e11c7350bf"
      },
      "execution_count": 165,
      "outputs": [
        {
          "output_type": "stream",
          "name": "stdout",
          "text": [
            "+---------+---------------+\n",
            "|age_group|count_per_group|\n",
            "+---------+---------------+\n",
            "|   Mature|            811|\n",
            "|    Young|            386|\n",
            "|      Old|            273|\n",
            "+---------+---------------+\n",
            "\n"
          ]
        }
      ]
    },
    {
      "cell_type": "code",
      "source": [
        "age_groups_pd = age_group.toPandas()\n",
        "\n",
        "# Create a bar chart with Seaborn\n",
        "plt.figure(figsize=(10, 6))\n",
        "sns.barplot(x='age_group', y='count_per_group', data=age_groups_pd, palette='viridis')\n",
        "plt.xlabel('Age Group')\n",
        "plt.ylabel('Number of employees')\n",
        "plt.title('Number of Employees Based on Age Group')\n",
        "plt.show()\n"
      ],
      "metadata": {
        "colab": {
          "base_uri": "https://localhost:8080/",
          "height": 651
        },
        "id": "Hkc3QLlxhJaU",
        "outputId": "d9e9d23b-2539-46b9-ba1e-fd7650c115c4"
      },
      "execution_count": 166,
      "outputs": [
        {
          "output_type": "stream",
          "name": "stderr",
          "text": [
            "<ipython-input-166-7a366b8bfcfc>:5: FutureWarning: \n",
            "\n",
            "Passing `palette` without assigning `hue` is deprecated and will be removed in v0.14.0. Assign the `x` variable to `hue` and set `legend=False` for the same effect.\n",
            "\n",
            "  sns.barplot(x='age_group', y='count_per_group', data=age_groups_pd, palette='viridis')\n"
          ]
        },
        {
          "output_type": "display_data",
          "data": {
            "text/plain": [
              "<Figure size 1000x600 with 1 Axes>"
            ],
            "image/png": "[encoded data removed]"
          },
          "metadata": {}
        }
      ]
    },
    {
      "cell_type": "markdown",
      "source": [
        "Most of **811** employees are in the mature age group of 31-45 years. The young age group 18-30 years has a significant number of employees **386** people, while the older age group 46-60 years has the least number of employees **273** people."
      ],
      "metadata": {
        "id": "Khbnjz-XmNLv"
      }
    },
    {
      "cell_type": "markdown",
      "source": [
        "**3. Are employees with certain levels of education more likely to resign than others?**"
      ],
      "metadata": {
        "id": "06I1aa5Rmj9J"
      }
    },
    {
      "cell_type": "code",
      "source": [
        "Education_attrition = spark.sql(\"\"\"\n",
        "SELECT\n",
        "    Education,\n",
        "    COUNT(*) AS total_count,\n",
        "    SUM(CASE WHEN Attrition = 'Yes' THEN 1 ELSE 0 END) AS attrition_count,\n",
        "    ROUND(SUM(CASE WHEN Attrition = 'Yes' THEN 1 ELSE 0 END) / COUNT(*) * 100,2) AS attrition_rate\n",
        "FROM employee\n",
        "GROUP BY Education\n",
        "ORDER BY attrition_rate DESC\n",
        "\"\"\")\n",
        "Education_attrition.show()"
      ],
      "metadata": {
        "colab": {
          "base_uri": "https://localhost:8080/"
        },
        "id": "z1KZHHG9ovNP",
        "outputId": "2fb42c40-b982-4e70-84fb-a94d19fce9f3"
      },
      "execution_count": 160,
      "outputs": [
        {
          "output_type": "stream",
          "name": "stdout",
          "text": [
            "+---------+-----------+---------------+--------------+\n",
            "|Education|total_count|attrition_count|attrition_rate|\n",
            "+---------+-----------+---------------+--------------+\n",
            "|        1|        170|             31|         18.24|\n",
            "|        3|        572|             99|         17.31|\n",
            "|        2|        282|             44|          15.6|\n",
            "|        4|        398|             58|         14.57|\n",
            "|        5|         48|              5|         10.42|\n",
            "+---------+-----------+---------------+--------------+\n",
            "\n"
          ]
        }
      ]
    },
    {
      "cell_type": "markdown",
      "source": [
        "Data analysis shows that the level of education has a significant influence on employees' tendency to leave the company. Employees with less education 1 have a turnover rate of **18.24%**, well above average. In contrast, employees with the highest education 5 only have a turnover rate of **10.42%**. This trend shows that the higher an employee's education level, the less likely they are to leave the company. The difference in exit rates between secondary education groups 2 and 3 is relatively small."
      ],
      "metadata": {
        "id": "MmkPgjxg9xhw"
      }
    },
    {
      "cell_type": "markdown",
      "source": [
        "**4. Is there a relationship between the level of work Environment Satisfaction and the level of employee resignation?**"
      ],
      "metadata": {
        "id": "VR3NHa6jDSKo"
      }
    },
    {
      "cell_type": "code",
      "source": [
        "EnvironmentSatisfaction_attrition = spark.sql(\"\"\"\n",
        "SELECT\n",
        "    EnvironmentSatisfaction,\n",
        "    COUNT(*) AS total_count,\n",
        "    SUM(CASE WHEN Attrition = 'Yes' THEN 1 ELSE 0 END) AS attrition_count,\n",
        "    ROUND(SUM(CASE WHEN Attrition = 'Yes' THEN 1 ELSE 0 END) / COUNT(*) * 100,2) AS attrition_rate\n",
        "FROM employee\n",
        "GROUP BY EnvironmentSatisfaction\n",
        "ORDER BY attrition_rate DESC\n",
        "\"\"\")\n",
        "EnvironmentSatisfaction_attrition.show()"
      ],
      "metadata": {
        "colab": {
          "base_uri": "https://localhost:8080/"
        },
        "id": "Kkhk3zI5rkAG",
        "outputId": "a2be8fef-4f7e-4233-9dde-5e89314f1f12"
      },
      "execution_count": 161,
      "outputs": [
        {
          "output_type": "stream",
          "name": "stdout",
          "text": [
            "+-----------------------+-----------+---------------+--------------+\n",
            "|EnvironmentSatisfaction|total_count|attrition_count|attrition_rate|\n",
            "+-----------------------+-----------+---------------+--------------+\n",
            "|                      1|        284|             72|         25.35|\n",
            "|                      2|        287|             43|         14.98|\n",
            "|                      3|        453|             62|         13.69|\n",
            "|                      4|        446|             60|         13.45|\n",
            "+-----------------------+-----------+---------------+--------------+\n",
            "\n"
          ]
        }
      ]
    },
    {
      "cell_type": "markdown",
      "source": [
        "Employees with a low work environment satisfaction level of 1 show a much higher tendency to resign, reaching 2**5.35%**, compared to other groups. On the other hand, employees who are very satisfied with the work environment 4 have the lowest resignation rate, namely **13.45%**. This shows that the higher the level of satisfaction with the work environment, the less likely employees are to leave the company. This significant difference confirms that a conducive and satisfying work environment is an important factor in retaining employees."
      ],
      "metadata": {
        "id": "55Q1L2dSECxF"
      }
    },
    {
      "cell_type": "markdown",
      "source": [
        "**5. Is marital status the main reason employees decide to leave work?**"
      ],
      "metadata": {
        "id": "EThLkQflEikz"
      }
    },
    {
      "cell_type": "code",
      "source": [
        "MaritalStatus_attrition = spark.sql(\"\"\"\n",
        "SELECT\n",
        "    MaritalStatus,\n",
        "    COUNT(*) AS total_count,\n",
        "    SUM(CASE WHEN Attrition = 'Yes' THEN 1 ELSE 0 END) AS attrition_count,\n",
        "    ROUND(SUM(CASE WHEN Attrition = 'Yes' THEN 1 ELSE 0 END) / COUNT(*) * 100,2) AS attrition_rate\n",
        "FROM employee\n",
        "GROUP BY MaritalStatus\n",
        "ORDER BY attrition_rate DESC\n",
        "\"\"\")\n",
        "MaritalStatus_attrition.show()"
      ],
      "metadata": {
        "colab": {
          "base_uri": "https://localhost:8080/"
        },
        "id": "nhGxczkNvm4K",
        "outputId": "edb9b077-d6ec-4074-b53e-ce82984994e9"
      },
      "execution_count": 162,
      "outputs": [
        {
          "output_type": "stream",
          "name": "stdout",
          "text": [
            "+-------------+-----------+---------------+--------------+\n",
            "|MaritalStatus|total_count|attrition_count|attrition_rate|\n",
            "+-------------+-----------+---------------+--------------+\n",
            "|       Single|        470|            120|         25.53|\n",
            "|      Married|        673|             84|         12.48|\n",
            "|     Divorced|        327|             33|         10.09|\n",
            "+-------------+-----------+---------------+--------------+\n",
            "\n"
          ]
        }
      ]
    },
    {
      "cell_type": "markdown",
      "source": [
        "Marital status has a significant influence on employee resignation rates. Unmarried employees have the highest resignation rate at **25.53%**, almost double that of divorced employees **10.09%**. Married employees show the middle resignation rate, namely **12.48%**. This shows that married employees tend to be more loyal to the company compared to employees who are unmarried or divorced."
      ],
      "metadata": {
        "id": "vqY6G2_kFWqM"
      }
    },
    {
      "cell_type": "markdown",
      "source": [
        "**6. Do employees who have a good work-life balance resign less often?**"
      ],
      "metadata": {
        "id": "w9CRn_KkFyE5"
      }
    },
    {
      "cell_type": "code",
      "source": [
        "WorkLifeBalance_attrition = spark.sql(\"\"\"\n",
        "SELECT\n",
        "    WorkLifeBalance,\n",
        "    COUNT(*) AS total_count,\n",
        "    SUM(CASE WHEN Attrition = 'Yes' THEN 1 ELSE 0 END) AS attrition_count,\n",
        "    ROUND(SUM(CASE WHEN Attrition = 'Yes' THEN 1 ELSE 0 END) / COUNT(*) * 100,2) AS attrition_rate\n",
        "FROM employee\n",
        "GROUP BY WorkLifeBalance\n",
        "ORDER BY attrition_rate DESC\n",
        "\"\"\")\n",
        "WorkLifeBalance_attrition.show()"
      ],
      "metadata": {
        "colab": {
          "base_uri": "https://localhost:8080/"
        },
        "id": "0bljklZtwGyn",
        "outputId": "cbae679a-6503-480a-d4d1-487cdbc597b5"
      },
      "execution_count": 163,
      "outputs": [
        {
          "output_type": "stream",
          "name": "stdout",
          "text": [
            "+---------------+-----------+---------------+--------------+\n",
            "|WorkLifeBalance|total_count|attrition_count|attrition_rate|\n",
            "+---------------+-----------+---------------+--------------+\n",
            "|              1|         80|             25|         31.25|\n",
            "|              4|        153|             27|         17.65|\n",
            "|              2|        344|             58|         16.86|\n",
            "|              3|        893|            127|         14.22|\n",
            "+---------------+-----------+---------------+--------------+\n",
            "\n"
          ]
        }
      ]
    },
    {
      "cell_type": "markdown",
      "source": [
        "Employees with a poor work-life balance 1 have the highest resignation rate, namely **31.25%**. On the other hand, employees who feel the best work-life balance 4 have the lowest resignation rate, namely **17.65%**. This suggests that the better the perceived work-life balance, the less likely employees are to leave the company."
      ],
      "metadata": {
        "id": "vT0VpsYKGeg8"
      }
    },
    {
      "cell_type": "markdown",
      "source": [
        "## RECOMMENDATION\n",
        "- Focus on improving working conditions in the Sales and Human Resources Department through satisfaction surveys and exit interviews.\n",
        "- Improve facilities and create a more conducive work environment to reduce resignation rates.\n",
        "- Provide training and career development for employees aged 31-45 years and with low levels of education.\n",
        "- Terapkan kebijakan fleksibilitas kerja seperti jadwal fleksibel atau opsi kerja dari rumah.\n",
        "- Design programs that support personal development and emotional well-being for single employees.\n",
        "- Provide a clear career development path and offer mentoring or coaching without a salary increase.\n",
        "- Improve internal communications and employee engagement through regular meetings and feedback sessions."
      ],
      "metadata": {
        "id": "pYiBPClqGmxV"
      }
    }
  ]
}